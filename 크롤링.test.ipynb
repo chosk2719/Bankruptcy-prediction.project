{
 "cells": [
  {
   "cell_type": "code",
   "execution_count": 1,
   "metadata": {},
   "outputs": [],
   "source": [
    "import urllib.request\n",
    "from bs4 import BeautifulSoup"
   ]
  },
  {
   "cell_type": "code",
   "execution_count": 7,
   "metadata": {},
   "outputs": [],
   "source": [
    "url = 'https://search.naver.com/search.naver?where=post&sm=tab_jum&query=%ED%8C%8C%EC%9D%B4%EC%8D%AC'\n",
    "html = urllib.request.urlopen(url).read()\n",
    "soup = BeautifulSoup(html, 'html.parser')"
   ]
  },
  {
   "cell_type": "code",
   "execution_count": 9,
   "metadata": {},
   "outputs": [],
   "source": [
    "title = soup.find_all(class_='sh_blog_title')"
   ]
  },
  {
   "cell_type": "code",
   "execution_count": 12,
   "metadata": {
    "scrolled": true
   },
   "outputs": [
    {
     "name": "stdout",
     "output_type": "stream",
     "text": [
      "10\n"
     ]
    }
   ],
   "source": [
    "print(len(title))"
   ]
  },
  {
   "cell_type": "code",
   "execution_count": 13,
   "metadata": {
    "scrolled": true
   },
   "outputs": [
    {
     "name": "stdout",
     "output_type": "stream",
     "text": [
      "[<a class=\"sh_blog_title _sp_each_url _sp_each_title\" href=\"https://blog.naver.com/sweetk2ss?Redirect=Log&amp;logNo=221954566322\" onclick=\"return goOtherCR(this, 'a=blg*i.tit&amp;r=1&amp;i=90000003_0000000000000033AD85E8B2&amp;u='+urlencode(this.href))\" target=\"_blank\" title=\"파이썬 설치 다운로드부터 해야겠죠?\"><strong class=\"hl\">파이썬</strong> 설치 다운로드부터 해야겠죠?</a>, <a class=\"sh_blog_title _sp_each_url _sp_each_title\" href=\"https://blog.naver.com/urmyver?Redirect=Log&amp;logNo=222050113272\" onclick=\"return goOtherCR(this, 'a=blg*i.tit&amp;r=2&amp;i=90000003_0000000000000033B337D6F8&amp;u='+urlencode(this.href))\" target=\"_blank\" title=\"파이썬 학원 : 자기개발과 취업, 무엇을 목표로 시작하나요?\"><strong class=\"hl\">파이썬</strong> 학원 : 자기개발과 취업, 무엇을 목표로 시작하나요?</a>, <a class=\"sh_blog_title _sp_each_url _sp_each_title\" href=\"https://blog.naver.com/ridesafe?Redirect=Log&amp;logNo=222049951715\" onclick=\"return goOtherCR(this, 'a=blg*i.tit&amp;r=3&amp;i=90000003_0000000000000033B3355FE3&amp;u='+urlencode(this.href))\" target=\"_blank\" title=\"파이썬자격증 종류와 취득방법 알아보자!\"><strong class=\"hl\">파이썬</strong>자격증 종류와 취득방법 알아보자!</a>, <a class=\"sh_blog_title _sp_each_url _sp_each_title\" href=\"https://blog.naver.com/skh556?Redirect=Log&amp;logNo=222038807263\" onclick=\"return goOtherCR(this, 'a=blg*i.tit&amp;r=4&amp;i=90000003_0000000000000033B28B52DF&amp;u='+urlencode(this.href))\" target=\"_blank\" title=\"자바 파이썬 입문 언어 승자는?\">자바 <strong class=\"hl\">파이썬</strong> 입문 언어 승자는?</a>, <a class=\"sh_blog_title _sp_each_url _sp_each_title\" href=\"https://blog.naver.com/likedelma?Redirect=Log&amp;logNo=222043548217\" onclick=\"return goOtherCR(this, 'a=blg*i.tit&amp;r=5&amp;i=90000003_0000000000000033B2D3AA39&amp;u='+urlencode(this.href))\" target=\"_blank\" title=\"파이썬 학원 비교와 선택의 기준!\"><strong class=\"hl\">파이썬</strong> 학원 비교와 선택의 기준!</a>, <a class=\"sh_blog_title _sp_each_url _sp_each_title\" href=\"https://blog.naver.com/jcy0207?Redirect=Log&amp;logNo=222038541815\" onclick=\"return goOtherCR(this, 'a=blg*i.tit&amp;r=6&amp;i=90000003_0000000000000033B28745F7&amp;u='+urlencode(this.href))\" target=\"_blank\" title=\"파이썬 학원 더 늦기 전에 도전!\"><strong class=\"hl\">파이썬</strong> 학원 더 늦기 전에 도전!</a>, <a class=\"sh_blog_title _sp_each_url _sp_each_title\" href=\"https://blog.naver.com/thkimnguy?Redirect=Log&amp;logNo=222016218489\" onclick=\"return goOtherCR(this, 'a=blg*i.tit&amp;r=7&amp;i=90000003_0000000000000033B132A579&amp;u='+urlencode(this.href))\" target=\"_blank\" title=\"점프 투 파이썬으로 코딩 공부 시작하기\">점프 투 <strong class=\"hl\">파이썬</strong>으로 코딩 공부 시작하기</a>, <a class=\"sh_blog_title _sp_each_url _sp_each_title\" href=\"https://blog.naver.com/fastcampus?Redirect=Log&amp;logNo=221924690201\" onclick=\"return goOtherCR(this, 'a=blg*i.tit&amp;r=8&amp;i=90000003_0000000000000033ABBE0919&amp;u='+urlencode(this.href))\" target=\"_blank\" title=\"직장인이라면 꼭 알아야 할 기술, 업무자동화 (엑셀/VBA/파이썬)\">직장인이라면 꼭 알아야 할 기술, 업무자동화 (엑셀/VBA/<strong class=\"hl\">파이썬</strong>)</a>, <a class=\"sh_blog_title _sp_each_url _sp_each_title\" href=\"https://blog.naver.com/greenuni?Redirect=Log&amp;logNo=222065328241\" onclick=\"return goOtherCR(this, 'a=blg*i.tit&amp;r=9&amp;i=90000003_0000000000000033B4200071&amp;u='+urlencode(this.href))\" target=\"_blank\" title=\"독학으로 파이썬 공부 시작해봄. 코딩 독학 가능? 완독할 수 있길!\">독학으로 <strong class=\"hl\">파이썬</strong> 공부 시작해봄. 코딩 독학 가능? 완독할 수 있길!</a>, <a class=\"sh_blog_title _sp_each_url _sp_each_title\" href=\"https://blog.naver.com/liveforu?Redirect=Log&amp;logNo=222059194163\" onclick=\"return goOtherCR(this, 'a=blg*i.tit&amp;r=10&amp;i=90000003_0000000000000033B3C26733&amp;u='+urlencode(this.href))\" target=\"_blank\" title=\"파이썬,텐서플로, 설치없이, PC없이, 코딩연습하기\"><strong class=\"hl\">파이썬</strong>,텐서플로, 설치없이, PC없이, 코딩연습하기</a>]\n"
     ]
    }
   ],
   "source": [
    "print(title)"
   ]
  },
  {
   "cell_type": "code",
   "execution_count": 18,
   "metadata": {},
   "outputs": [
    {
     "name": "stdout",
     "output_type": "stream",
     "text": [
      "파이썬 설치 다운로드부터 해야겠죠?\n",
      "https://blog.naver.com/sweetk2ss?Redirect=Log&logNo=221954566322\n",
      "\n",
      "파이썬 학원 : 자기개발과 취업, 무엇을 목표로 시작하나요?\n",
      "https://blog.naver.com/urmyver?Redirect=Log&logNo=222050113272\n",
      "\n",
      "파이썬자격증 종류와 취득방법 알아보자!\n",
      "https://blog.naver.com/ridesafe?Redirect=Log&logNo=222049951715\n",
      "\n",
      "자바 파이썬 입문 언어 승자는?\n",
      "https://blog.naver.com/skh556?Redirect=Log&logNo=222038807263\n",
      "\n",
      "파이썬 학원 비교와 선택의 기준!\n",
      "https://blog.naver.com/likedelma?Redirect=Log&logNo=222043548217\n",
      "\n",
      "파이썬 학원 더 늦기 전에 도전!\n",
      "https://blog.naver.com/jcy0207?Redirect=Log&logNo=222038541815\n",
      "\n",
      "점프 투 파이썬으로 코딩 공부 시작하기\n",
      "https://blog.naver.com/thkimnguy?Redirect=Log&logNo=222016218489\n",
      "\n",
      "직장인이라면 꼭 알아야 할 기술, 업무자동화 (엑셀/VBA/파이썬)\n",
      "https://blog.naver.com/fastcampus?Redirect=Log&logNo=221924690201\n",
      "\n",
      "독학으로 파이썬 공부 시작해봄. 코딩 독학 가능? 완독할 수 있길!\n",
      "https://blog.naver.com/greenuni?Redirect=Log&logNo=222065328241\n",
      "\n",
      "파이썬,텐서플로, 설치없이, PC없이, 코딩연습하기\n",
      "https://blog.naver.com/liveforu?Redirect=Log&logNo=222059194163\n",
      "\n"
     ]
    }
   ],
   "source": [
    "for i in title:\n",
    "    print(i.attrs['title'])\n",
    "    print(i.attrs['href'])\n",
    "    print()"
   ]
  },
  {
   "cell_type": "code",
   "execution_count": null,
   "metadata": {},
   "outputs": [],
   "source": [
    "7bba91f51399cd6256c184c5ad0b2539c0bfd8b6"
   ]
  },
  {
   "cell_type": "code",
   "execution_count": 35,
   "metadata": {},
   "outputs": [],
   "source": [
    "import urllib"
   ]
  },
  {
   "cell_type": "code",
   "execution_count": 36,
   "metadata": {},
   "outputs": [],
   "source": [
    "K = '7bba91f51399cd6256c184c5ad0b2539c0bfd8b6'"
   ]
  },
  {
   "cell_type": "code",
   "execution_count": 37,
   "metadata": {},
   "outputs": [
    {
     "data": {
      "text/plain": [
       "(str, 40)"
      ]
     },
     "execution_count": 37,
     "metadata": {},
     "output_type": "execute_result"
    }
   ],
   "source": [
    "type(K), len(K)"
   ]
  },
  {
   "cell_type": "code",
   "execution_count": 38,
   "metadata": {},
   "outputs": [],
   "source": [
    "# url_company = \"http://dart.fss.or.kr/api/companyRSS.xml?crpCd=00126380\"\n",
    "# crpcode = \"00126380\"\n",
    "# url = url_company.format(K, crpcode)"
   ]
  },
  {
   "cell_type": "code",
   "execution_count": 73,
   "metadata": {},
   "outputs": [],
   "source": [
    "url_company = \"http://dart.fss.or.kr/api/company.json?auth={0}&crp_cd={1}\"\n",
    "crpcode = \"00126380\"\n",
    "url = url_company.format(K, crpcode)"
   ]
  },
  {
   "cell_type": "code",
   "execution_count": 74,
   "metadata": {
    "scrolled": true
   },
   "outputs": [
    {
     "name": "stdout",
     "output_type": "stream",
     "text": [
      "{'acc_mt': '',\n",
      " 'adr': '',\n",
      " 'bsn_no': '',\n",
      " 'ceo_nm': '',\n",
      " 'crp_cls': '',\n",
      " 'crp_nm': '',\n",
      " 'crp_nm_e': '',\n",
      " 'crp_nm_i': '',\n",
      " 'crp_no': '',\n",
      " 'err_code': '900',\n",
      " 'err_msg': 'OpenDART(https://opendart.fss.or.kr) 서비스 이관으로 인한 기존 API 서비스 중단',\n",
      " 'est_dt': '',\n",
      " 'fax_no': '',\n",
      " 'hm_url': '',\n",
      " 'ind_cd': None,\n",
      " 'ir_url': '',\n",
      " 'phn_no': '',\n",
      " 'stock_cd': ''}\n"
     ]
    }
   ],
   "source": [
    "import requests\n",
    "import json\n",
    "from konlpy.utils import pprint\n",
    "response = requests.get(url)\n",
    "data = json.loads(response.content)\n",
    "pprint(data)"
   ]
  },
  {
   "cell_type": "code",
   "execution_count": 34,
   "metadata": {},
   "outputs": [
    {
     "data": {
      "text/plain": [
       "''"
      ]
     },
     "execution_count": 34,
     "metadata": {},
     "output_type": "execute_result"
    }
   ],
   "source": [
    "data[\"crp_no\"]"
   ]
  },
  {
   "cell_type": "code",
   "execution_count": 60,
   "metadata": {},
   "outputs": [
    {
     "name": "stdout",
     "output_type": "stream",
     "text": [
      "Requirement already satisfied: dart-fss in c:\\programdata\\anaconda3\\lib\\site-packages (0.3.3)\n",
      "Requirement already satisfied: isodate in c:\\programdata\\anaconda3\\lib\\site-packages (from dart-fss) (0.6.0)\n",
      "Requirement already satisfied: openpyxl in c:\\programdata\\anaconda3\\lib\\site-packages (from dart-fss) (3.0.3)\n",
      "Requirement already satisfied: tqdm in c:\\programdata\\anaconda3\\lib\\site-packages (from dart-fss) (4.42.1)\n",
      "Requirement already satisfied: requests in c:\\programdata\\anaconda3\\lib\\site-packages (from dart-fss) (2.22.0)\n",
      "Requirement already satisfied: pandas in c:\\programdata\\anaconda3\\lib\\site-packages (from dart-fss) (1.0.1)\n",
      "Requirement already satisfied: xmltodict in c:\\programdata\\anaconda3\\lib\\site-packages (from dart-fss) (0.12.0)\n",
      "Requirement already satisfied: arelle in c:\\programdata\\anaconda3\\lib\\site-packages (from dart-fss) (2.2)\n",
      "Requirement already satisfied: lxml in c:\\programdata\\anaconda3\\lib\\site-packages (from dart-fss) (4.5.0)\n",
      "Requirement already satisfied: html5lib in c:\\programdata\\anaconda3\\lib\\site-packages (from dart-fss) (1.0.1)\n",
      "Requirement already satisfied: beautifulsoup4 in c:\\programdata\\anaconda3\\lib\\site-packages (from dart-fss) (4.6.0)\n",
      "Requirement already satisfied: fake-useragent in c:\\programdata\\anaconda3\\lib\\site-packages (from dart-fss) (0.1.11)\n",
      "Requirement already satisfied: appdirs in c:\\programdata\\anaconda3\\lib\\site-packages (from dart-fss) (1.4.4)\n",
      "Requirement already satisfied: halo in c:\\programdata\\anaconda3\\lib\\site-packages (from dart-fss) (0.0.30)\n",
      "Requirement already satisfied: numpy>=1.17.0 in c:\\programdata\\anaconda3\\lib\\site-packages (from dart-fss) (1.18.1)\n",
      "Requirement already satisfied: six in c:\\programdata\\anaconda3\\lib\\site-packages (from isodate->dart-fss) (1.14.0)\n",
      "Requirement already satisfied: jdcal in c:\\programdata\\anaconda3\\lib\\site-packages (from openpyxl->dart-fss) (1.4.1)\n",
      "Requirement already satisfied: et-xmlfile in c:\\programdata\\anaconda3\\lib\\site-packages (from openpyxl->dart-fss) (1.0.1)\n",
      "Requirement already satisfied: urllib3!=1.25.0,!=1.25.1,<1.26,>=1.21.1 in c:\\programdata\\anaconda3\\lib\\site-packages (from requests->dart-fss) (1.25.8)\n",
      "Requirement already satisfied: chardet<3.1.0,>=3.0.2 in c:\\programdata\\anaconda3\\lib\\site-packages (from requests->dart-fss) (3.0.4)\n",
      "Requirement already satisfied: idna<2.9,>=2.5 in c:\\programdata\\anaconda3\\lib\\site-packages (from requests->dart-fss) (2.8)\n",
      "Requirement already satisfied: certifi>=2017.4.17 in c:\\programdata\\anaconda3\\lib\\site-packages (from requests->dart-fss) (2019.11.28)\n",
      "Requirement already satisfied: python-dateutil>=2.6.1 in c:\\programdata\\anaconda3\\lib\\site-packages (from pandas->dart-fss) (2.8.1)\n",
      "Requirement already satisfied: pytz>=2017.2 in c:\\programdata\\anaconda3\\lib\\site-packages (from pandas->dart-fss) (2019.3)\n",
      "Requirement already satisfied: webencodings in c:\\programdata\\anaconda3\\lib\\site-packages (from html5lib->dart-fss) (0.5.1)\n",
      "Requirement already satisfied: log-symbols>=0.0.14 in c:\\programdata\\anaconda3\\lib\\site-packages (from halo->dart-fss) (0.0.14)\n",
      "Requirement already satisfied: colorama>=0.3.9 in c:\\programdata\\anaconda3\\lib\\site-packages (from halo->dart-fss) (0.4.3)\n",
      "Requirement already satisfied: termcolor>=1.1.0 in c:\\programdata\\anaconda3\\lib\\site-packages (from halo->dart-fss) (1.1.0)\n",
      "Requirement already satisfied: spinners>=0.0.24 in c:\\programdata\\anaconda3\\lib\\site-packages (from halo->dart-fss) (0.0.24)\n"
     ]
    },
    {
     "name": "stderr",
     "output_type": "stream",
     "text": [
      "WARNING: You are using pip version 20.1.1; however, version 20.2.2 is available.\n",
      "You should consider upgrading via the 'C:\\ProgramData\\Anaconda3\\python.exe -m pip install --upgrade pip' command.\n"
     ]
    },
    {
     "name": "stdout",
     "output_type": "stream",
     "text": [
      "Note: you may need to restart the kernel to use updated packages.\n"
     ]
    }
   ],
   "source": [
    "pip install dart-fss"
   ]
  },
  {
   "cell_type": "code",
   "execution_count": 78,
   "metadata": {},
   "outputs": [
    {
     "data": {
      "application/vnd.jupyter.widget-view+json": {
       "model_id": "2ae39d3686b44ccbaf178d87a7cab05a",
       "version_major": 2,
       "version_minor": 0
      },
      "text/plain": [
       "Output()"
      ]
     },
     "metadata": {},
     "output_type": "display_data"
    },
    {
     "data": {
      "application/vnd.jupyter.widget-view+json": {
       "model_id": "7dd06c22f3c1413a9cb9406dcc15cd27",
       "version_major": 2,
       "version_minor": 0
      },
      "text/plain": [
       "Output()"
      ]
     },
     "metadata": {},
     "output_type": "display_data"
    },
    {
     "data": {
      "application/vnd.jupyter.widget-view+json": {
       "model_id": "ba9f7f927689447ca681f383a56fdc25",
       "version_major": 2,
       "version_minor": 0
      },
      "text/plain": [
       "Output()"
      ]
     },
     "metadata": {},
     "output_type": "display_data"
    },
    {
     "data": {
      "application/vnd.jupyter.widget-view+json": {
       "model_id": "3a3fdf7e911641339fc83c96a92354c1",
       "version_major": 2,
       "version_minor": 0
      },
      "text/plain": [
       "Output()"
      ]
     },
     "metadata": {},
     "output_type": "display_data"
    },
    {
     "data": {
      "application/vnd.jupyter.widget-view+json": {
       "model_id": "93a12922f7c24c8a8da67f541a3e885e",
       "version_major": 2,
       "version_minor": 0
      },
      "text/plain": [
       "Output()"
      ]
     },
     "metadata": {},
     "output_type": "display_data"
    },
    {
     "data": {
      "application/vnd.jupyter.widget-view+json": {
       "model_id": "cdad50e51f84403db7055c739e5dab1d",
       "version_major": 2,
       "version_minor": 0
      },
      "text/plain": [
       "HBox(children=(FloatProgress(value=0.0, description='Annual reports', max=8.0, style=ProgressStyle(description…"
      ]
     },
     "metadata": {},
     "output_type": "display_data"
    },
    {
     "name": "stdout",
     "output_type": "stream",
     "text": [
      "\n"
     ]
    },
    {
     "data": {
      "text/plain": [
       "'d:\\\\workspace\\\\Bankruptcy prediction\\\\fsdata\\\\00126380_annual.xlsx'"
      ]
     },
     "execution_count": 78,
     "metadata": {},
     "output_type": "execute_result"
    }
   ],
   "source": [
    "import dart_fss as dart\n",
    "\n",
    "\n",
    "# Open DART API KEY 설정\n",
    "api_key='7bba91f51399cd6256c184c5ad0b2539c0bfd8b6'\n",
    "dart.set_api_key(api_key=api_key)\n",
    "\n",
    "# DART 에 공시된 회사 리스트 불러오기\n",
    "corp_list = dart.get_corp_list()\n",
    "\n",
    "# 삼성전자 검색\n",
    "samsung = corp_list.find_by_corp_name('삼성전자', exactly=True)[0]\n",
    "\n",
    "# 2012년부터 연간 연결재무제표 불러오기\n",
    "fs = samsung.extract_fs(bgn_de='20120101')\n",
    "\n",
    "# 재무제표 검색 결과를 엑셀파일로 저장 ( 기본저장위치: 실행폴더/fsdata )\n",
    "fs.save()"
   ]
  },
  {
   "cell_type": "code",
   "execution_count": 86,
   "metadata": {
    "scrolled": true
   },
   "outputs": [
    {
     "data": {
      "application/vnd.jupyter.widget-view+json": {
       "model_id": "ce919ed01bd24cfa90165803aff8f2ac",
       "version_major": 2,
       "version_minor": 0
      },
      "text/plain": [
       "Output()"
      ]
     },
     "metadata": {},
     "output_type": "display_data"
    },
    {
     "data": {
      "application/vnd.jupyter.widget-view+json": {
       "model_id": "de95853b04d14e049f27a545128bdff7",
       "version_major": 2,
       "version_minor": 0
      },
      "text/plain": [
       "Output()"
      ]
     },
     "metadata": {},
     "output_type": "display_data"
    },
    {
     "data": {
      "application/vnd.jupyter.widget-view+json": {
       "model_id": "d572587659154f3997600e16d7997871",
       "version_major": 2,
       "version_minor": 0
      },
      "text/plain": [
       "HBox(children=(FloatProgress(value=0.0, description='Annual reports', max=8.0, style=ProgressStyle(description…"
      ]
     },
     "metadata": {},
     "output_type": "display_data"
    },
    {
     "name": "stdout",
     "output_type": "stream",
     "text": [
      "\n",
      "{'bgn_de': '20120101',\n",
      " 'corp_code': '00126380',\n",
      " 'end_de': None,\n",
      " 'financial statement': [{'title': '[D210000] Statement of financial position, '\n",
      "                                   'current/non-current - Consolidated '\n",
      "                                   'financial statements (Unit: KRW)'},\n",
      "                         {'title': '[D310000] Income statement, by function of '\n",
      "                                   'expense - Consolidated financial '\n",
      "                                   'statements (Unit: KRW)'},\n",
      "                         {'title': '[D410000] Statement of comprehensive '\n",
      "                                   'income - Consolidated financial statements '\n",
      "                                   '(Unit: KRW)'},\n",
      "                         {'title': '[D520000] Statement of cash flows, '\n",
      "                                   'indirect method - Consolidated financial '\n",
      "                                   'statements (Unit: KRW)'}],\n",
      " 'lang': 'ko',\n",
      " 'report_tp': 'annual',\n",
      " 'separate': False,\n",
      " 'separator': True}\n"
     ]
    }
   ],
   "source": [
    "print(samsung.extract_fs(bgn_de='20120101'))"
   ]
  },
  {
   "cell_type": "code",
   "execution_count": 95,
   "metadata": {},
   "outputs": [
    {
     "name": "stdout",
     "output_type": "stream",
     "text": [
      "[00126380]삼성전자\n"
     ]
    }
   ],
   "source": [
    "print(samsung)"
   ]
  },
  {
   "cell_type": "code",
   "execution_count": 101,
   "metadata": {},
   "outputs": [
    {
     "data": {
      "application/vnd.jupyter.widget-view+json": {
       "model_id": "cd2affe6755246eab506cb88df2ece63",
       "version_major": 2,
       "version_minor": 0
      },
      "text/plain": [
       "Output()"
      ]
     },
     "metadata": {},
     "output_type": "display_data"
    },
    {
     "data": {
      "application/vnd.jupyter.widget-view+json": {
       "model_id": "0927b0547ead4436b8d1161760dad001",
       "version_major": 2,
       "version_minor": 0
      },
      "text/plain": [
       "Output()"
      ]
     },
     "metadata": {},
     "output_type": "display_data"
    },
    {
     "data": {
      "application/vnd.jupyter.widget-view+json": {
       "model_id": "13f329670d3042518d468e260af5e64c",
       "version_major": 2,
       "version_minor": 0
      },
      "text/plain": [
       "HBox(children=(FloatProgress(value=0.0, description='Annual reports', max=8.0, style=ProgressStyle(description…"
      ]
     },
     "metadata": {},
     "output_type": "display_data"
    },
    {
     "name": "stdout",
     "output_type": "stream",
     "text": [
      "\n"
     ]
    }
   ],
   "source": [
    "tsm = corp_list.find_by_corp_name('SK하이닉스', exactly=True)[0]\n",
    "tsmfs = tsm.extract_fs(bgn_de='20120101')"
   ]
  },
  {
   "cell_type": "code",
   "execution_count": 104,
   "metadata": {},
   "outputs": [],
   "source": [
    "import datetime\n",
    "\n",
    "now = datetime.datetime.now()\n",
    "nowDate = now.strftime('%Y%m%d%H%M')"
   ]
  },
  {
   "cell_type": "code",
   "execution_count": 106,
   "metadata": {},
   "outputs": [],
   "source": [
    "bgn_de = '20190101'\n",
    "end_de = now.strftime('%Y%m%d')\n"
   ]
  },
  {
   "cell_type": "code",
   "execution_count": 107,
   "metadata": {},
   "outputs": [
    {
     "name": "stdout",
     "output_type": "stream",
     "text": [
      "20200821\n"
     ]
    }
   ],
   "source": [
    "print(end_de)"
   ]
  },
  {
   "cell_type": "code",
   "execution_count": 108,
   "metadata": {},
   "outputs": [],
   "source": [
    "corp_list = dart.get_corp_list()"
   ]
  },
  {
   "cell_type": "code",
   "execution_count": 119,
   "metadata": {},
   "outputs": [],
   "source": [
    "corp_name = '삼성전자'\n",
    "corp_code = corp_list.find_by_corp_name(corp_name=corp_name)[0]\n",
    "\n",
    "# # corp_code = corp_list.find_by_corp_name(corp_name = corp_name)[0]\n",
    "corp_code = corp_code._info['corp_code']"
   ]
  },
  {
   "cell_type": "code",
   "execution_count": 124,
   "metadata": {
    "scrolled": true
   },
   "outputs": [
    {
     "data": {
      "application/vnd.jupyter.widget-view+json": {
       "model_id": "6fc9849cb7b94e16977c394b1ea6eece",
       "version_major": 2,
       "version_minor": 0
      },
      "text/plain": [
       "Output()"
      ]
     },
     "metadata": {},
     "output_type": "display_data"
    },
    {
     "data": {
      "application/vnd.jupyter.widget-view+json": {
       "model_id": "04f6ba11fec84dd19056a7379ff8fd36",
       "version_major": 2,
       "version_minor": 0
      },
      "text/plain": [
       "Output()"
      ]
     },
     "metadata": {},
     "output_type": "display_data"
    },
    {
     "data": {
      "application/vnd.jupyter.widget-view+json": {
       "model_id": "76cc2d97b3824ffd8150a7d2186dc98c",
       "version_major": 2,
       "version_minor": 0
      },
      "text/plain": [
       "HBox(children=(FloatProgress(value=0.0, description='Annual reports', max=1.0, style=ProgressStyle(description…"
      ]
     },
     "metadata": {},
     "output_type": "display_data"
    },
    {
     "name": "stdout",
     "output_type": "stream",
     "text": [
      "\n"
     ]
    }
   ],
   "source": [
    "fs = dart.fs.extract(corp_code = corp_code, bgn_de = bgn_de, end_de = end_de, lang='ko', separator=False)"
   ]
  },
  {
   "cell_type": "code",
   "execution_count": 125,
   "metadata": {},
   "outputs": [
    {
     "name": "stdout",
     "output_type": "stream",
     "text": [
      "{'bgn_de': '20190101',\n",
      " 'corp_code': '00126380',\n",
      " 'end_de': '20200821',\n",
      " 'financial statement': [{'title': '[D210000] Statement of financial position, '\n",
      "                                   'current/non-current - Consolidated '\n",
      "                                   'financial statements (Unit: KRW)'},\n",
      "                         {'title': '[D310000] Income statement, by function of '\n",
      "                                   'expense - Consolidated financial '\n",
      "                                   'statements (Unit: KRW)'},\n",
      "                         {'title': '[D410000] Statement of comprehensive '\n",
      "                                   'income - Consolidated financial statements '\n",
      "                                   '(Unit: KRW)'},\n",
      "                         {'title': '[D520000] Statement of cash flows, '\n",
      "                                   'indirect method - Consolidated financial '\n",
      "                                   'statements (Unit: KRW)'}],\n",
      " 'lang': 'ko',\n",
      " 'report_tp': 'annual',\n",
      " 'separate': False,\n",
      " 'separator': False}\n"
     ]
    }
   ],
   "source": [
    "print(fs)"
   ]
  },
  {
   "cell_type": "code",
   "execution_count": 126,
   "metadata": {},
   "outputs": [
    {
     "data": {
      "application/vnd.jupyter.widget-view+json": {
       "model_id": "1bbf145162f74bf4bd9bd83676766762",
       "version_major": 2,
       "version_minor": 0
      },
      "text/plain": [
       "Output()"
      ]
     },
     "metadata": {},
     "output_type": "display_data"
    },
    {
     "data": {
      "application/vnd.jupyter.widget-view+json": {
       "model_id": "5087d2b4e892464497b22569c0cd1a81",
       "version_major": 2,
       "version_minor": 0
      },
      "text/plain": [
       "Output()"
      ]
     },
     "metadata": {},
     "output_type": "display_data"
    },
    {
     "data": {
      "application/vnd.jupyter.widget-view+json": {
       "model_id": "239e789c3b04441db68595d4c68ed3a3",
       "version_major": 2,
       "version_minor": 0
      },
      "text/plain": [
       "HBox(children=(FloatProgress(value=0.0, description='Annual reports', max=1.0, style=ProgressStyle(description…"
      ]
     },
     "metadata": {},
     "output_type": "display_data"
    },
    {
     "name": "stdout",
     "output_type": "stream",
     "text": [
      "\n"
     ]
    },
    {
     "data": {
      "application/vnd.jupyter.widget-view+json": {
       "model_id": "bf66aeefecc5470d8159c6941ba2da7b",
       "version_major": 2,
       "version_minor": 0
      },
      "text/plain": [
       "HBox(children=(FloatProgress(value=0.0, description='Semiannual reports', max=2.0, style=ProgressStyle(descrip…"
      ]
     },
     "metadata": {},
     "output_type": "display_data"
    },
    {
     "name": "stdout",
     "output_type": "stream",
     "text": [
      "\n"
     ]
    }
   ],
   "source": [
    "fs = dart.fs.extract(corp_code=corp_code, bgn_de=bgn_de, end_de=end_de, report_tp='half', lang='ko', separator=False)"
   ]
  },
  {
   "cell_type": "code",
   "execution_count": 127,
   "metadata": {},
   "outputs": [
    {
     "name": "stdout",
     "output_type": "stream",
     "text": [
      "{'bgn_de': '20190101',\n",
      " 'corp_code': '00126380',\n",
      " 'end_de': '20200821',\n",
      " 'financial statement': [{'title': '[D210000] Statement of financial position, '\n",
      "                                   'current/non-current - Consolidated '\n",
      "                                   'financial statements (Unit: KRW)'},\n",
      "                         {'title': '[D310000] Income statement, by function of '\n",
      "                                   'expense - Consolidated financial '\n",
      "                                   'statements (Unit: KRW)'},\n",
      "                         {'title': '[D410000] Statement of comprehensive '\n",
      "                                   'income - Consolidated financial statements '\n",
      "                                   '(Unit: KRW)'},\n",
      "                         {'title': '[D520000] Statement of cash flows, '\n",
      "                                   'indirect method - Consolidated financial '\n",
      "                                   'statements (Unit: KRW)'}],\n",
      " 'lang': 'ko',\n",
      " 'report_tp': 'half',\n",
      " 'separate': False,\n",
      " 'separator': False}\n"
     ]
    }
   ],
   "source": [
    "print(fs)"
   ]
  },
  {
   "cell_type": "code",
   "execution_count": 128,
   "metadata": {},
   "outputs": [
    {
     "data": {
      "application/vnd.jupyter.widget-view+json": {
       "model_id": "b421e26b36ac41d6a9ad2e90144a9a91",
       "version_major": 2,
       "version_minor": 0
      },
      "text/plain": [
       "Output()"
      ]
     },
     "metadata": {},
     "output_type": "display_data"
    },
    {
     "data": {
      "application/vnd.jupyter.widget-view+json": {
       "model_id": "14ec16fdfec54b56ac0d03e7148a2f1c",
       "version_major": 2,
       "version_minor": 0
      },
      "text/plain": [
       "Output()"
      ]
     },
     "metadata": {},
     "output_type": "display_data"
    },
    {
     "data": {
      "application/vnd.jupyter.widget-view+json": {
       "model_id": "d645745b6e4748588953a191c0d1e797",
       "version_major": 2,
       "version_minor": 0
      },
      "text/plain": [
       "HBox(children=(FloatProgress(value=0.0, description='Annual reports', max=1.0, style=ProgressStyle(description…"
      ]
     },
     "metadata": {},
     "output_type": "display_data"
    },
    {
     "name": "stdout",
     "output_type": "stream",
     "text": [
      "\n"
     ]
    },
    {
     "data": {
      "application/vnd.jupyter.widget-view+json": {
       "model_id": "74cb141fbceb4c549687022ef960bcfe",
       "version_major": 2,
       "version_minor": 0
      },
      "text/plain": [
       "HBox(children=(FloatProgress(value=0.0, description='Semiannual reports', max=2.0, style=ProgressStyle(descrip…"
      ]
     },
     "metadata": {},
     "output_type": "display_data"
    },
    {
     "name": "stdout",
     "output_type": "stream",
     "text": [
      "\n"
     ]
    },
    {
     "data": {
      "application/vnd.jupyter.widget-view+json": {
       "model_id": "ee58681ed17b43d1b48d542424df4249",
       "version_major": 2,
       "version_minor": 0
      },
      "text/plain": [
       "HBox(children=(FloatProgress(value=0.0, description='Quarterly report', max=3.0, style=ProgressStyle(descripti…"
      ]
     },
     "metadata": {},
     "output_type": "display_data"
    },
    {
     "name": "stdout",
     "output_type": "stream",
     "text": [
      "\n"
     ]
    }
   ],
   "source": [
    "fs = dart.fs.extract(corp_code=corp_code, bgn_de=bgn_de, end_de=end_de, report_tp='quarter', lang='ko', separator=False)"
   ]
  },
  {
   "cell_type": "code",
   "execution_count": 129,
   "metadata": {},
   "outputs": [
    {
     "name": "stdout",
     "output_type": "stream",
     "text": [
      "{'bgn_de': '20190101',\n",
      " 'corp_code': '00126380',\n",
      " 'end_de': '20200821',\n",
      " 'financial statement': [{'title': '[D210000] Statement of financial position, '\n",
      "                                   'current/non-current - Consolidated '\n",
      "                                   'financial statements (Unit: KRW)'},\n",
      "                         {'title': '[D310000] Income statement, by function of '\n",
      "                                   'expense - Consolidated financial '\n",
      "                                   'statements (Unit: KRW)'},\n",
      "                         {'title': '[D410000] Statement of comprehensive '\n",
      "                                   'income - Consolidated financial statements '\n",
      "                                   '(Unit: KRW)'},\n",
      "                         {'title': '[D520000] Statement of cash flows, '\n",
      "                                   'indirect method - Consolidated financial '\n",
      "                                   'statements (Unit: KRW)'}],\n",
      " 'lang': 'ko',\n",
      " 'report_tp': 'quarter',\n",
      " 'separate': False,\n",
      " 'separator': False}\n"
     ]
    }
   ],
   "source": [
    "print(fs)"
   ]
  },
  {
   "cell_type": "code",
   "execution_count": null,
   "metadata": {},
   "outputs": [],
   "source": []
  },
  {
   "cell_type": "code",
   "execution_count": null,
   "metadata": {},
   "outputs": [],
   "source": []
  },
  {
   "cell_type": "code",
   "execution_count": null,
   "metadata": {},
   "outputs": [],
   "source": []
  },
  {
   "cell_type": "code",
   "execution_count": null,
   "metadata": {},
   "outputs": [],
   "source": []
  },
  {
   "cell_type": "code",
   "execution_count": null,
   "metadata": {},
   "outputs": [],
   "source": []
  },
  {
   "cell_type": "code",
   "execution_count": null,
   "metadata": {},
   "outputs": [],
   "source": []
  },
  {
   "cell_type": "code",
   "execution_count": null,
   "metadata": {},
   "outputs": [],
   "source": []
  },
  {
   "cell_type": "code",
   "execution_count": null,
   "metadata": {},
   "outputs": [],
   "source": []
  },
  {
   "cell_type": "code",
   "execution_count": null,
   "metadata": {},
   "outputs": [],
   "source": []
  },
  {
   "cell_type": "code",
   "execution_count": null,
   "metadata": {},
   "outputs": [],
   "source": []
  },
  {
   "cell_type": "code",
   "execution_count": null,
   "metadata": {},
   "outputs": [],
   "source": []
  },
  {
   "cell_type": "code",
   "execution_count": null,
   "metadata": {},
   "outputs": [],
   "source": []
  },
  {
   "cell_type": "code",
   "execution_count": null,
   "metadata": {},
   "outputs": [],
   "source": []
  },
  {
   "cell_type": "code",
   "execution_count": null,
   "metadata": {},
   "outputs": [],
   "source": []
  },
  {
   "cell_type": "code",
   "execution_count": null,
   "metadata": {},
   "outputs": [],
   "source": []
  },
  {
   "cell_type": "code",
   "execution_count": null,
   "metadata": {},
   "outputs": [],
   "source": []
  },
  {
   "cell_type": "code",
   "execution_count": null,
   "metadata": {},
   "outputs": [],
   "source": []
  },
  {
   "cell_type": "code",
   "execution_count": null,
   "metadata": {},
   "outputs": [],
   "source": []
  },
  {
   "cell_type": "code",
   "execution_count": null,
   "metadata": {},
   "outputs": [],
   "source": []
  },
  {
   "cell_type": "code",
   "execution_count": null,
   "metadata": {},
   "outputs": [],
   "source": []
  }
 ],
 "metadata": {
  "kernelspec": {
   "display_name": "Python 3",
   "language": "python",
   "name": "python3"
  },
  "language_info": {
   "codemirror_mode": {
    "name": "ipython",
    "version": 3
   },
   "file_extension": ".py",
   "mimetype": "text/x-python",
   "name": "python",
   "nbconvert_exporter": "python",
   "pygments_lexer": "ipython3",
   "version": "3.7.6"
  }
 },
 "nbformat": 4,
 "nbformat_minor": 4
}
